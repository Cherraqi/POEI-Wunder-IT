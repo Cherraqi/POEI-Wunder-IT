{
 "cells": [
  {
   "cell_type": "markdown",
   "metadata": {},
   "source": [
    "# Racine carré par la méthode de Newton\n"
   ]
  },
  {
   "cell_type": "code",
   "execution_count": null,
   "metadata": {},
   "outputs": [],
   "source": [
    "\"\"\"Newton méthode:\n",
    "\n",
    "\n",
    "1        2/1 = 2              1.5\n",
    "\n",
    "1.5       2/1.5 = 1.3333       1.4167\n",
    "\n",
    "1.4167    2/1.4167 = 1.4118    1.4142\n",
    "\n",
    "1.4142     ...                 ...\n",
    "\n",
    "y         x/y                  (y + x/y)/2\"\"\""
   ]
  },
  {
   "cell_type": "code",
   "execution_count": 1,
   "metadata": {},
   "outputs": [],
   "source": [
    "def sqrt_Newton(n):\n",
    "    x = n\n",
    "    y = (x + n / x) / 2\n",
    "    while x !=y:\n",
    "        x=y\n",
    "        y = (x + n / x) / 2\n",
    "        print(\"{}               {}                {}\".format(x,n/x,y))\n",
    "    return round(x,3)"
   ]
  },
  {
   "cell_type": "code",
   "execution_count": 2,
   "metadata": {},
   "outputs": [
    {
     "name": "stdout",
     "output_type": "stream",
     "text": [
      "1.5               1.3333333333333333                1.4166666666666665\n",
      "1.4166666666666665               1.411764705882353                1.4142156862745097\n",
      "1.4142156862745097               1.41421143847487                1.4142135623746899\n",
      "1.4142135623746899               1.4142135623715002                1.414213562373095\n",
      "1.414213562373095               1.4142135623730951                1.414213562373095\n"
     ]
    },
    {
     "data": {
      "text/plain": [
       "1.414"
      ]
     },
     "execution_count": 2,
     "metadata": {},
     "output_type": "execute_result"
    }
   ],
   "source": [
    "sqrt_Newton(2)"
   ]
  },
  {
   "cell_type": "code",
   "execution_count": 3,
   "metadata": {},
   "outputs": [],
   "source": [
    "def sqrt_Newton(n):\n",
    "    x = n\n",
    "    y = (x + n / x) / 2\n",
    "    while x !=y:\n",
    "        x=y\n",
    "        y = (x + n / x) / 2\n",
    "    return round(x,3)"
   ]
  },
  {
   "cell_type": "code",
   "execution_count": 4,
   "metadata": {},
   "outputs": [
    {
     "data": {
      "text/plain": [
       "1.414"
      ]
     },
     "execution_count": 4,
     "metadata": {},
     "output_type": "execute_result"
    }
   ],
   "source": [
    "sqrt_Newton(2)"
   ]
  },
  {
   "cell_type": "code",
   "execution_count": null,
   "metadata": {},
   "outputs": [],
   "source": []
  }
 ],
 "metadata": {
  "kernelspec": {
   "display_name": "Python 3",
   "language": "python",
   "name": "python3"
  },
  "language_info": {
   "codemirror_mode": {
    "name": "ipython",
    "version": 3
   },
   "file_extension": ".py",
   "mimetype": "text/x-python",
   "name": "python",
   "nbconvert_exporter": "python",
   "pygments_lexer": "ipython3",
   "version": "3.6.5"
  }
 },
 "nbformat": 4,
 "nbformat_minor": 2
}
